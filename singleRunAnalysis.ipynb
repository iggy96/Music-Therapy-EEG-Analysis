{
 "cells": [
  {
   "cell_type": "code",
   "execution_count": null,
   "metadata": {},
   "outputs": [],
   "source": [
    "from helper import*\n",
    "from params import*"
   ]
  },
  {
   "cell_type": "code",
   "execution_count": null,
   "metadata": {},
   "outputs": [],
   "source": [
    "# establish connection with music_therapy_eeg database\n",
    "db_connection = create_db_connection(hostName,userName,userPassword,databaseName)\n",
    "data = df_to_table_query(db_connection,query)"
   ]
  },
  {
   "cell_type": "code",
   "execution_count": null,
   "metadata": {},
   "outputs": [],
   "source": [
    "# transform sql extracted table to raw eeg data\n",
    "rawEEG = (transformToRawEEG(data,fs,collection_time,fs_setting))[0]\n",
    "time_s = (transformToRawEEG(data,fs,collection_time,fs_setting))[1]\n",
    "plots(time_s,rawEEG,plotTitles,figSize,pltColor)"
   ]
  },
  {
   "cell_type": "code",
   "execution_count": null,
   "metadata": {},
   "outputs": [],
   "source": [
    "# compute independent comonent analysis on raw eeg data\n",
    "ica_data = customICA(rawEEG,tuneval)\n",
    "plots(time_s,ica_data,plotTitles,figSize,pltColor)"
   ]
  },
  {
   "cell_type": "code",
   "execution_count": null,
   "metadata": {},
   "outputs": [],
   "source": [
    "# Filters: notch filter and bandpass filter\n",
    "noc=filters()\n",
    "notch_data = noc.notch(ica_data,line,fs,Q)\n",
    "bp = filters()\n",
    "bpData = bp.butterBandPass(notch_data,lowcut,highcut,fs,order)\n",
    "plots(time_s,bpData,plotTitles,figSize,pltColor)"
   ]
  },
  {
   "cell_type": "code",
   "execution_count": null,
   "metadata": {},
   "outputs": [],
   "source": []
  },
  {
   "cell_type": "code",
   "execution_count": null,
   "metadata": {},
   "outputs": [],
   "source": []
  },
  {
   "cell_type": "code",
   "execution_count": null,
   "metadata": {},
   "outputs": [],
   "source": []
  },
  {
   "cell_type": "code",
   "execution_count": null,
   "metadata": {},
   "outputs": [],
   "source": []
  }
 ],
 "metadata": {
  "interpreter": {
   "hash": "40d3a090f54c6569ab1632332b64b2c03c39dcf918b08424e98f38b5ae0af88f"
  },
  "kernelspec": {
   "display_name": "Python 3.9.7 ('base')",
   "language": "python",
   "name": "python3"
  },
  "language_info": {
   "codemirror_mode": {
    "name": "ipython",
    "version": 3
   },
   "file_extension": ".py",
   "mimetype": "text/x-python",
   "name": "python",
   "nbconvert_exporter": "python",
   "pygments_lexer": "ipython3",
   "version": "3.9.7"
  },
  "orig_nbformat": 4
 },
 "nbformat": 4,
 "nbformat_minor": 2
}
