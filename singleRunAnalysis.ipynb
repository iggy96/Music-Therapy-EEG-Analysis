{
 "cells": [
  {
   "cell_type": "code",
   "execution_count": null,
   "metadata": {},
   "outputs": [],
   "source": [
    "from helper import*\n",
    "# list of sql variables\n",
    "hostName = \"localhost\"\n",
    "userName = \"root\"\n",
    "userPassword = \"1A3g5m7t9n#\" # IMPORTANT! Put your MySQL Terminal password here.\n",
    "databaseName = 'music_therapy_eeg'\n",
    "tableName = 'MH_01_ES1_task1'\n",
    "query = (\"% s % s\"%('SELECT * FROM', tableName))"
   ]
  },
  {
   "cell_type": "code",
   "execution_count": null,
   "metadata": {},
   "outputs": [],
   "source": [
    "# list of python variables\n",
    "fs = 256\n",
    "collection_time = 120\n",
    "fs_setting = 'resample'\n",
    "plotTitles = ['RAW_TP9','RAW_AF7','RAW_AF8','RAW_TP10']\n",
    "figSize = (10,10)\n",
    "pltColor = ['r','g','b','k']"
   ]
  },
  {
   "cell_type": "code",
   "execution_count": null,
   "metadata": {},
   "outputs": [],
   "source": [
    "# establish connection with music_therapy_eeg database\n",
    "db_connection = create_db_connection(hostName,userName,userPassword,databaseName)\n",
    "data = df_to_table_query(db_connection,query)"
   ]
  },
  {
   "cell_type": "code",
   "execution_count": null,
   "metadata": {},
   "outputs": [],
   "source": [
    "# transform sql extracted table to raw eeg data\n",
    "rawEEG = (transformToRawEEG(data,fs,collection_time,fs_setting))[0]\n",
    "time_s = (transformToRawEEG(data,fs,collection_time,fs_setting))[1]\n",
    "plots(time_s,rawEEG,plotTitles,figSize,pltColor)"
   ]
  },
  {
   "cell_type": "code",
   "execution_count": null,
   "metadata": {},
   "outputs": [],
   "source": []
  },
  {
   "cell_type": "code",
   "execution_count": null,
   "metadata": {},
   "outputs": [],
   "source": []
  },
  {
   "cell_type": "code",
   "execution_count": null,
   "metadata": {},
   "outputs": [],
   "source": []
  },
  {
   "cell_type": "code",
   "execution_count": null,
   "metadata": {},
   "outputs": [],
   "source": []
  },
  {
   "cell_type": "code",
   "execution_count": null,
   "metadata": {},
   "outputs": [],
   "source": []
  },
  {
   "cell_type": "code",
   "execution_count": null,
   "metadata": {},
   "outputs": [],
   "source": []
  }
 ],
 "metadata": {
  "interpreter": {
   "hash": "40d3a090f54c6569ab1632332b64b2c03c39dcf918b08424e98f38b5ae0af88f"
  },
  "kernelspec": {
   "display_name": "Python 3.9.7 ('base')",
   "language": "python",
   "name": "python3"
  },
  "language_info": {
   "codemirror_mode": {
    "name": "ipython",
    "version": 3
   },
   "file_extension": ".py",
   "mimetype": "text/x-python",
   "name": "python",
   "nbconvert_exporter": "python",
   "pygments_lexer": "ipython3",
   "version": "3.9.7"
  },
  "orig_nbformat": 4
 },
 "nbformat": 4,
 "nbformat_minor": 2
}
