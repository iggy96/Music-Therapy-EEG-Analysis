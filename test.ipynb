{
 "cells": [
  {
   "cell_type": "code",
   "execution_count": 1,
   "metadata": {},
   "outputs": [
    {
     "ename": "MySQL.API.Error",
     "evalue": "(2005): Unknown MySQL server host 'ec2blah.eu-west-2.compute.amazonaws.com' (8)",
     "output_type": "error",
     "traceback": [
      "(2005): Unknown MySQL server host 'ec2blah.eu-west-2.compute.amazonaws.com' (8)\n",
      "\n",
      "Stacktrace:\n",
      "  [1] connect\n",
      "    @ ~/.julia/packages/MySQL/3VbD5/src/api/capi.jl:12 [inlined]\n",
      "  [2] MySQL.Connection(host::String, user::String, passwd::String, db::String, port::Int64, unix_socket::String; kw::Base.Pairs{Symbol, Union{}, Tuple{}, NamedTuple{(), Tuple{}}})\n",
      "    @ MySQL ~/.julia/packages/MySQL/3VbD5/src/MySQL.jl:34\n",
      "  [3] Connection\n",
      "    @ ~/.julia/packages/MySQL/3VbD5/src/MySQL.jl:25 [inlined]\n",
      "  [4] #connect#5\n",
      "    @ ~/.julia/packages/MySQL/3VbD5/src/MySQL.jl:288 [inlined]\n",
      "  [5] top-level scope\n",
      "    @ ~/Documents/GitHub/Music-Therapy-EEG-Analysis/test.ipynb:7\n",
      "  [6] eval\n",
      "    @ ./boot.jl:373 [inlined]\n",
      "  [7] include_string(mapexpr::typeof(REPL.softscope), mod::Module, code::String, filename::String)\n",
      "    @ Base ./loading.jl:1196\n",
      "  [8] #invokelatest#2\n",
      "    @ ./essentials.jl:716 [inlined]\n",
      "  [9] invokelatest\n",
      "    @ ./essentials.jl:714 [inlined]\n",
      " [10] (::VSCodeServer.var\"#164#165\"{VSCodeServer.NotebookRunCellArguments, String})()\n",
      "    @ VSCodeServer ~/.vscode/extensions/julialang.language-julia-1.6.17/scripts/packages/VSCodeServer/src/serve_notebook.jl:19\n",
      " [11] withpath(f::VSCodeServer.var\"#164#165\"{VSCodeServer.NotebookRunCellArguments, String}, path::String)\n",
      "    @ VSCodeServer ~/.vscode/extensions/julialang.language-julia-1.6.17/scripts/packages/VSCodeServer/src/repl.jl:184\n",
      " [12] notebook_runcell_request(conn::VSCodeServer.JSONRPC.JSONRPCEndpoint{Base.PipeEndpoint, Base.PipeEndpoint}, params::VSCodeServer.NotebookRunCellArguments)\n",
      "    @ VSCodeServer ~/.vscode/extensions/julialang.language-julia-1.6.17/scripts/packages/VSCodeServer/src/serve_notebook.jl:13\n",
      " [13] dispatch_msg(x::VSCodeServer.JSONRPC.JSONRPCEndpoint{Base.PipeEndpoint, Base.PipeEndpoint}, dispatcher::VSCodeServer.JSONRPC.MsgDispatcher, msg::Dict{String, Any})\n",
      "    @ VSCodeServer.JSONRPC ~/.vscode/extensions/julialang.language-julia-1.6.17/scripts/packages/JSONRPC/src/typed.jl:67\n",
      " [14] serve_notebook(pipename::String, outputchannel_logger::Base.CoreLogging.SimpleLogger; crashreporting_pipename::String)\n",
      "    @ VSCodeServer ~/.vscode/extensions/julialang.language-julia-1.6.17/scripts/packages/VSCodeServer/src/serve_notebook.jl:136\n",
      " [15] top-level scope\n",
      "    @ ~/.vscode/extensions/julialang.language-julia-1.6.17/scripts/notebook/notebook.jl:32\n",
      " [16] include(mod::Module, _path::String)\n",
      "    @ Base ./Base.jl:418\n",
      " [17] exec_options(opts::Base.JLOptions)\n",
      "    @ Base ./client.jl:292\n",
      " [18] _start()\n",
      "    @ Base ./client.jl:495"
     ]
    }
   ],
   "source": [
    "using Pkg\n",
    "Pkg.add(\"MySQL\")       # No need for a full PackageSpec here\n",
    "Pkg.add(\"DBInterface\")\n",
    "\n",
    "using MySQL\n",
    "using DBInterface\n",
    "conn = DBInterface.connect(MySQL.Connection, \"ec2blah.eu-west-2.compute.amazonaws.com\",\n",
    "                           \"name\", \"password\", db = \"database\")"
   ]
  },
  {
   "cell_type": "code",
   "execution_count": null,
   "metadata": {},
   "outputs": [],
   "source": []
  }
 ],
 "metadata": {
  "kernelspec": {
   "display_name": "Julia 1.7.2",
   "language": "julia",
   "name": "julia-1.7"
  },
  "language_info": {
   "file_extension": ".jl",
   "mimetype": "application/julia",
   "name": "julia",
   "version": "1.7.2"
  },
  "orig_nbformat": 4
 },
 "nbformat": 4,
 "nbformat_minor": 2
}
