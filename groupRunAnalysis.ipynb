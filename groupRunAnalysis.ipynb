{
 "cells": [
  {
   "cell_type": "code",
   "execution_count": null,
   "metadata": {},
   "outputs": [],
   "source": [
    "# The jupyter script is used to carry out the analysis of group runs\n",
    "# this is an ETL process: extract (from database), transform (preprocessing techniques), load (numPy arrays)\n",
    "# take average of music therpy group per task\n",
    "# take average of control group per task\n",
    "# run 12 second sliding window on each group per task\n",
    "# dataset is resampled due to undersampling during the recording\n",
    "# ICA, notch and bandpass filtering are implmeneted to mitigate eeg noise\n",
    "# results: spectogram and average bandpower comparison betwen timepoints per channel per brainwave"
   ]
  },
  {
   "cell_type": "code",
   "execution_count": null,
   "metadata": {},
   "outputs": [],
   "source": [
    "from helper import*\n",
    "from params import*"
   ]
  },
  {
   "cell_type": "code",
   "execution_count": null,
   "metadata": {},
   "outputs": [],
   "source": [
    "def avgBandPowerProcessingPipeline(**kwargs):\n",
    "    # establish connection with music_therapy_eeg database\n",
    "    db_connection = create_db_connection(hostName,userName,userPassword,databaseName)\n",
    "    data = df_to_table_query(db_connection,query_1)\n",
    "    # transform sql extracted table to raw eeg data\n",
    "    rawEEG = (transformToRawEEG(data,fs,collection_time,fs_setting))[0]\n",
    "    time_s = (transformToRawEEG(data,fs,collection_time,fs_setting))[1]\n",
    "    # compute independent comonent analysis on raw eeg data\n",
    "    ica_data = customICA(rawEEG,tuneval)\n",
    "    # Filters: notch filter and bandpass filter\n",
    "    noc=filters()\n",
    "    notch_data = noc.notch(ica_data,line,fs,Q)\n",
    "    bp = filters()\n",
    "    bpData = bp.butterBandPass(notch_data,lowcut,highcut,fs,order)\n",
    "    # run sliding window on bandpass filtered data\n",
    "    rw_data = rollingWindow(bpData,window_size,step_size)\n",
    "    # compute power spectrum of each window per channel\n",
    "    delta_low = brainwaves['delta'][0]\n",
    "    delta_high = brainwaves['delta'][1]\n",
    "    theta_low = brainwaves['theta'][0]\n",
    "    theta_high = brainwaves['theta'][1]\n",
    "    alpha_low = brainwaves['alpha'][0]\n",
    "    alpha_high = brainwaves['alpha'][1]\n",
    "    beta_low = brainwaves['beta'][0]\n",
    "    beta_high = brainwaves['beta'][1]\n",
    "    gamma_low = brainwaves['gamma'][0]\n",
    "    gamma_high = brainwaves['gamma'][1]\n",
    "    # compute average band power for timepoint 1\n",
    "    deltaAvgBandPower = averageBandPower(rw_data,'3D',fs,delta_low,delta_high,win)\n",
    "    thetaAvgBandPower = averageBandPower(rw_data,'3D',fs,theta_low,theta_high,win)\n",
    "    alphaAvgBandPower = averageBandPower(rw_data,'3D',fs,alpha_low,alpha_high,win)\n",
    "    betaAvgBandPower = averageBandPower(rw_data,'3D',fs,beta_low,beta_high,win)\n",
    "    gammaAvgBandPower = averageBandPower(rw_data,'3D',fs,gamma_low,gamma_high,win)\n",
    "    return deltaAvgBandPower,thetaAvgBandPower,alphaAvgBandPower,betaAvgBandPower,gammaAvgBandPower"
   ]
  }
 ],
 "metadata": {
  "language_info": {
   "name": "python"
  },
  "orig_nbformat": 4
 },
 "nbformat": 4,
 "nbformat_minor": 2
}
